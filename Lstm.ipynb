{
 "cells": [
  {
   "cell_type": "markdown",
   "id": "80ce3164",
   "metadata": {},
   "source": [
    "# Toxic comment Analysis on Twitter tweets Dataset using LSTM"
   ]
  },
  {
   "cell_type": "code",
   "execution_count": 2,
   "metadata": {},
   "outputs": [
    {
     "name": "stdout",
     "output_type": "stream",
     "text": [
      "2.3.0\n"
     ]
    },
    {
     "name": "stderr",
     "output_type": "stream",
     "text": [
      "[nltk_data] Downloading package stopwords to\n",
      "[nltk_data]     C:\\Users\\ranji\\AppData\\Roaming\\nltk_data...\n",
      "[nltk_data]   Package stopwords is already up-to-date!\n",
      "[nltk_data] Downloading package punkt to\n",
      "[nltk_data]     C:\\Users\\ranji\\AppData\\Roaming\\nltk_data...\n",
      "[nltk_data]   Package punkt is already up-to-date!\n"
     ]
    }
   ],
   "source": [
    "import numpy as np\n",
    "import pandas as pd\n",
    "import tensorflow as tf\n",
    "import sys, codecs  \n",
    "from tqdm import tqdm\n",
    "import matplotlib.pyplot as plt\n",
    "\n",
    "import nltk\n",
    "from nltk.corpus import stopwords\n",
    "nltk.download('stopwords')\n",
    "nltk.download('punkt')\n",
    "from nltk.tokenize import RegexpTokenizer \n",
    "from nltk.tokenize import word_tokenize\n",
    "import os, re, csv, math, codecs\n",
    "from keras.preprocessing.text import Tokenizer\n",
    "from keras.layers import BatchNormalization\n",
    "import tensorflow as tf\n",
    "from tensorflow.keras.preprocessing import text, sequence\n",
    "from tensorflow.keras.models import Sequential\n",
    "from tensorflow.keras.layers import Dense, Dropout\n",
    "from tensorflow.keras.layers import Embedding\n",
    "from sklearn.metrics import accuracy_score, f1_score, precision_score, recall_score , confusion_matrix\n",
    "\n",
    "from tensorflow.keras.layers import Embedding, LSTM, Dense, Dropout, Bidirectional\n",
    "plt.style.use('fivethirtyeight')\n",
    "print(tf.__version__)\n",
    "import seaborn as sn\n",
    "import os\n",
    "for dirname, _, filenames in os.walk('/kaggle/input'):\n",
    "    for filename in filenames:\n",
    "        print(filename)"
   ]
  },
  {
   "cell_type": "markdown",
   "id": "ee8cca65",
   "metadata": {},
   "source": [
    "## Loading the  Dataset"
   ]
  },
  {
   "cell_type": "code",
   "execution_count": 3,
   "metadata": {},
   "outputs": [
    {
     "data": {
      "text/html": [
       "<div>\n",
       "<style scoped>\n",
       "    .dataframe tbody tr th:only-of-type {\n",
       "        vertical-align: middle;\n",
       "    }\n",
       "\n",
       "    .dataframe tbody tr th {\n",
       "        vertical-align: top;\n",
       "    }\n",
       "\n",
       "    .dataframe thead th {\n",
       "        text-align: right;\n",
       "    }\n",
       "</style>\n",
       "<table border=\"1\" class=\"dataframe\">\n",
       "  <thead>\n",
       "    <tr style=\"text-align: right;\">\n",
       "      <th></th>\n",
       "      <th>Unnamed: 0</th>\n",
       "      <th>Unnamed: 0.1</th>\n",
       "      <th>Unnamed: 0.1.1</th>\n",
       "      <th>label</th>\n",
       "      <th>tweet</th>\n",
       "    </tr>\n",
       "  </thead>\n",
       "  <tbody>\n",
       "    <tr>\n",
       "      <th>0</th>\n",
       "      <td>46745</td>\n",
       "      <td>26678</td>\n",
       "      <td>26678</td>\n",
       "      <td>0</td>\n",
       "      <td>resistance.  #job   #ruiva #cacheada</td>\n",
       "    </tr>\n",
       "    <tr>\n",
       "      <th>1</th>\n",
       "      <td>46746</td>\n",
       "      <td>33358</td>\n",
       "      <td>33358</td>\n",
       "      <td>1</td>\n",
       "      <td>&amp;#8220;@M_Rad: I'm going to miss these bitches...</td>\n",
       "    </tr>\n",
       "    <tr>\n",
       "      <th>2</th>\n",
       "      <td>46747</td>\n",
       "      <td>6249</td>\n",
       "      <td>6249</td>\n",
       "      <td>0</td>\n",
       "      <td>ð   #tech bitcoin vs. gold [infographic]</td>\n",
       "    </tr>\n",
       "    <tr>\n",
       "      <th>3</th>\n",
       "      <td>46748</td>\n",
       "      <td>49095</td>\n",
       "      <td>49095</td>\n",
       "      <td>1</td>\n",
       "      <td>RT @Ronesha__: When I feel like he entertainin...</td>\n",
       "    </tr>\n",
       "    <tr>\n",
       "      <th>4</th>\n",
       "      <td>46749</td>\n",
       "      <td>55583</td>\n",
       "      <td>55583</td>\n",
       "      <td>1</td>\n",
       "      <td>bitch betta get it right...shout out....ddaaaw...</td>\n",
       "    </tr>\n",
       "  </tbody>\n",
       "</table>\n",
       "</div>"
      ],
      "text/plain": [
       "   Unnamed: 0  Unnamed: 0.1  Unnamed: 0.1.1  label  \\\n",
       "0       46745         26678           26678      0   \n",
       "1       46746         33358           33358      1   \n",
       "2       46747          6249            6249      0   \n",
       "3       46748         49095           49095      1   \n",
       "4       46749         55583           55583      1   \n",
       "\n",
       "                                               tweet  \n",
       "0              resistance.  #job   #ruiva #cacheada   \n",
       "1  &#8220;@M_Rad: I'm going to miss these bitches...  \n",
       "2       ð   #tech bitcoin vs. gold [infographic]   \n",
       "3  RT @Ronesha__: When I feel like he entertainin...  \n",
       "4  bitch betta get it right...shout out....ddaaaw...  "
      ]
     },
     "execution_count": 3,
     "metadata": {},
     "output_type": "execute_result"
    }
   ],
   "source": [
    "\n",
    "tweets_train_dataset=pd.read_csv(\"C:/Users/ranji/Desktop/NLP/Project/twitter hate speech/Code/Dataset/FinalDataset_Train1.csv\")\n",
    "tweets_test_dataset=pd.read_csv(\"C:/Users/ranji/Desktop/NLP/Project/twitter hate speech/Code/Dataset/FinalDataset_Test1.csv\")\n",
    "tweets_test_dataset.head()"
   ]
  },
  {
   "cell_type": "code",
   "execution_count": 4,
   "metadata": {},
   "outputs": [],
   "source": [
    "x = tweets_train_dataset['tweet']\n",
    "y = tweets_train_dataset['label']\n",
    "\n",
    "x_test = tweets_test_dataset['tweet'].values\n",
    "y_test = tweets_test_dataset['label'].values"
   ]
  },
  {
   "cell_type": "markdown",
   "id": "8b238ef1",
   "metadata": {},
   "source": [
    "### Example of a positive tweet"
   ]
  },
  {
   "cell_type": "code",
   "execution_count": 5,
   "id": "492f6d02",
   "metadata": {},
   "outputs": [
    {
     "data": {
      "text/plain": [
       "'i am joy. #i_am #positive #affirmation     '"
      ]
     },
     "execution_count": 5,
     "metadata": {},
     "output_type": "execute_result"
    }
   ],
   "source": [
    "x[1]"
   ]
  },
  {
   "cell_type": "markdown",
   "id": "34e4a6c1",
   "metadata": {},
   "source": [
    "### Example of a negative tweet"
   ]
  },
  {
   "cell_type": "code",
   "execution_count": 6,
   "id": "9e906250",
   "metadata": {},
   "outputs": [
    {
     "data": {
      "text/plain": [
       "'bitch betta get it right...shout out....ddaaawwgggffaaaccee cccaalldddeerooonn......dese hoes be aktin... http://t.co/FElt4DNd'"
      ]
     },
     "execution_count": 6,
     "metadata": {},
     "output_type": "execute_result"
    }
   ],
   "source": [
    "x_test[4]"
   ]
  },
  {
   "cell_type": "code",
   "execution_count": 7,
   "id": "24fa8af2",
   "metadata": {},
   "outputs": [
    {
     "data": {
      "text/plain": [
       "<AxesSubplot:xlabel='label', ylabel='count'>"
      ]
     },
     "execution_count": 7,
     "metadata": {},
     "output_type": "execute_result"
    },
    {
     "data": {
      "image/png": "[encoded data removed]",
      "text/plain": [
       "<Figure size 432x288 with 1 Axes>"
      ]
     },
     "metadata": {},
     "output_type": "display_data"
    }
   ],
   "source": [
    "#Class wise count\n",
    "import seaborn as sns\n",
    "sns.countplot(x='label', data = tweets_train_dataset)"
   ]
  },
  {
   "cell_type": "code",
   "execution_count": 8,
   "metadata": {},
   "outputs": [
    {
     "data": {
      "text/plain": [
       "0    26853\n",
       "1    19892\n",
       "Name: label, dtype: int64"
      ]
     },
     "execution_count": 8,
     "metadata": {},
     "output_type": "execute_result"
    }
   ],
   "source": [
    "tweets_train_dataset['label'].value_counts()"
   ]
  },
  {
   "cell_type": "markdown",
   "id": "10fd2c19",
   "metadata": {},
   "source": [
    "## Loading the Glove word Emembeddings"
   ]
  },
  {
   "cell_type": "code",
   "execution_count": 9,
   "metadata": {},
   "outputs": [],
   "source": [
    "tweets_train_dataset['doc_len'] = tweets_train_dataset['tweet'].apply(lambda words: len(words.split(\" \")))\n",
    "max_seq_len = np.round(tweets_train_dataset['doc_len'].mean() + tweets_train_dataset['doc_len'].std()).astype(int)"
   ]
  },
  {
   "cell_type": "code",
   "execution_count": 10,
   "metadata": {},
   "outputs": [],
   "source": [
    "max_features = 20000\n",
    "max_text_length = 400"
   ]
  },
  {
   "cell_type": "code",
   "execution_count": 11,
   "metadata": {},
   "outputs": [
    {
     "name": "stderr",
     "output_type": "stream",
     "text": [
      "723it [00:00, 7170.82it/s]"
     ]
    },
    {
     "name": "stdout",
     "output_type": "stream",
     "text": [
      "loading word embeddings...\n"
     ]
    },
    {
     "name": "stderr",
     "output_type": "stream",
     "text": [
      "2196018it [05:07, 7148.95it/s]"
     ]
    },
    {
     "name": "stdout",
     "output_type": "stream",
     "text": [
      "found 2196016 word vectors\n"
     ]
    },
    {
     "name": "stderr",
     "output_type": "stream",
     "text": [
      "\n"
     ]
    }
   ],
   "source": [
    "print('loading word embeddings...')\n",
    "\n",
    "#change the path to load the embedding file\n",
    "embeddings_index = {}\n",
    "f = codecs.open('C:/Users/ranji/Desktop/NLP/Project/twitter hate speech/Code/Dataset/glove.840B.300d/glove.840B.300d.txt', encoding='utf-8')\n",
    "\n",
    "for line in tqdm(f):\n",
    "    values = line.rstrip().rsplit(' ')\n",
    "    word = values[0]\n",
    "    coefs = np.asarray(values[1:], dtype='float32')\n",
    "    embeddings_index[word] = coefs\n",
    "f.close()\n",
    "\n",
    "print('found %s word vectors' % len(embeddings_index))"
   ]
  },
  {
   "cell_type": "markdown",
   "id": "cb209ade",
   "metadata": {},
   "source": [
    "## Data Preprocessing and Vectorizing the input data"
   ]
  },
  {
   "cell_type": "code",
   "execution_count": 12,
   "metadata": {},
   "outputs": [],
   "source": [
    "MAX_NB_WORDS = 100000\n",
    "tokenizer = RegexpTokenizer(r'\\w+')\n",
    "stop_words = set(stopwords.words('english'))\n",
    "stop_words.update(['.', ',', '\"', \"'\", ':', ';', '(', ')', '[', ']', '{', '}'])"
   ]
  },
  {
   "cell_type": "code",
   "execution_count": 13,
   "metadata": {},
   "outputs": [
    {
     "name": "stderr",
     "output_type": "stream",
     "text": [
      "  2%|▏         | 1037/46745 [00:00<00:09, 5065.26it/s]"
     ]
    },
    {
     "name": "stdout",
     "output_type": "stream",
     "text": [
      "pre-processing train data...\n"
     ]
    },
    {
     "name": "stderr",
     "output_type": "stream",
     "text": [
      "100%|██████████| 46745/46745 [00:08<00:00, 5204.04it/s]\n",
      " 11%|█         | 1072/10000 [00:00<00:01, 5349.43it/s]"
     ]
    },
    {
     "name": "stdout",
     "output_type": "stream",
     "text": [
      "pre-processing test data...\n"
     ]
    },
    {
     "name": "stderr",
     "output_type": "stream",
     "text": [
      "100%|██████████| 10000/10000 [00:01<00:00, 5282.00it/s]\n"
     ]
    },
    {
     "name": "stdout",
     "output_type": "stream",
     "text": [
      "tokenizing input data...\n",
      "dictionary size:  70953\n"
     ]
    }
   ],
   "source": [
    "from sklearn.utils import shuffle \n",
    "print(\"pre-processing train data...\")\n",
    "raw_docs_train = x.tolist()\n",
    "raw_docs_test = x_test.tolist() \n",
    "num_classes = len(tweets_train_dataset['label'].values)\n",
    "\n",
    "\n",
    "\n",
    "processed_docs_train = []\n",
    "for doc in tqdm(raw_docs_train):\n",
    "    tokens = word_tokenize(doc)\n",
    "    filtered = [word for word in tokens if word not in stop_words]\n",
    "    processed_docs_train.append(\" \".join(filtered))\n",
    "#end for\n",
    "\n",
    "print(\"pre-processing test data...\")\n",
    "processed_docs_test = []\n",
    "for doc in tqdm(raw_docs_test):\n",
    "    tokens = word_tokenize(doc)\n",
    "    filtered = [word for word in tokens if word not in stop_words]\n",
    "    processed_docs_test.append(\" \".join(filtered))\n",
    "#end for\n",
    "\n",
    "print(\"tokenizing input data...\")\n",
    "tokenizer = Tokenizer(num_words=MAX_NB_WORDS, lower=True, char_level=False)\n",
    "tokenizer.fit_on_texts(processed_docs_train + processed_docs_test)  #leaky\n",
    "word_seq_train = tokenizer.texts_to_sequences(processed_docs_train)\n",
    "word_seq_test = tokenizer.texts_to_sequences(processed_docs_test)\n",
    "word_index = tokenizer.word_index\n",
    "print(\"dictionary size: \", len(word_index))\n",
    "\n",
    "#pad sequences\n",
    "word_seq_train = sequence.pad_sequences(word_seq_train, maxlen=max_seq_len)\n",
    "word_seq_test = sequence.pad_sequences(word_seq_test, maxlen=max_seq_len)"
   ]
  },
  {
   "cell_type": "markdown",
   "id": "fc181582",
   "metadata": {},
   "source": [
    "## Generating an embedding matrix using our Input data"
   ]
  },
  {
   "cell_type": "code",
   "execution_count": 14,
   "metadata": {},
   "outputs": [],
   "source": [
    "MAX_NB_WORDS = 100000\n",
    "#training params\n",
    "batch_size = 256 \n",
    "num_epochs = 15\n",
    "\n",
    "#model parameters\n",
    "num_filters = 64 \n",
    "embed_dim = 300 \n",
    "weight_decay = 1e-4"
   ]
  },
  {
   "cell_type": "code",
   "execution_count": 15,
   "metadata": {},
   "outputs": [
    {
     "name": "stdout",
     "output_type": "stream",
     "text": [
      "preparing embedding matrix...\n",
      "number of null word embeddings: 38540\n"
     ]
    }
   ],
   "source": [
    "#embedding matrix\n",
    "\n",
    "print('preparing embedding matrix...')\n",
    "\n",
    "words_not_found = []\n",
    "nb_words = min(MAX_NB_WORDS, len(word_index)+1)\n",
    "embedding_matrix = np.zeros((nb_words, embed_dim))\n",
    "\n",
    "for word, i in word_index.items():\n",
    "    if i >= nb_words:\n",
    "        continue\n",
    "    embedding_vector = embeddings_index.get(word)\n",
    "    if (embedding_vector is not None) and len(embedding_vector) > 0:\n",
    "        # words not found in embedding index will be all-zeros.\n",
    "        embedding_matrix[i] = embedding_vector\n",
    "    else:\n",
    "        words_not_found.append(word)\n",
    "print('number of null word embeddings: %d' % np.sum(np.sum(embedding_matrix, axis=1) == 0))"
   ]
  },
  {
   "cell_type": "code",
   "execution_count": 16,
   "metadata": {},
   "outputs": [
    {
     "name": "stdout",
     "output_type": "stream",
     "text": [
      "sample words that are not found in the glove embedding:  ['tvhostâ\\x80¦' 'exploresask' 'thetaylorway'\n",
      " 'blessedð\\x9f\\x99\\x8fð\\x9f\\x8f½' 'drunknights' 'postietweet' 'voguet'\n",
      " 'mrszookeeper' 'saintjohn' 'allzmicelz']\n"
     ]
    }
   ],
   "source": [
    "print(\"sample words that are not found in the glove embedding: \", np.random.choice(words_not_found, 10))"
   ]
  },
  {
   "cell_type": "markdown",
   "id": "5adc740c",
   "metadata": {},
   "source": [
    "## Defining our LSTM model"
   ]
  },
  {
   "cell_type": "code",
   "execution_count": 118,
   "metadata": {},
   "outputs": [
    {
     "name": "stdout",
     "output_type": "stream",
     "text": [
      "Model: \"sequential_16\"\n",
      "_________________________________________________________________\n",
      "Layer (type)                 Output Shape              Param #   \n",
      "=================================================================\n",
      "embedding_16 (Embedding)     (None, 21, 300)           21286200  \n",
      "_________________________________________________________________\n",
      "bidirectional_16 (Bidirectio (None, 64)                85248     \n",
      "_________________________________________________________________\n",
      "dense_32 (Dense)             (None, 32)                2080      \n",
      "_________________________________________________________________\n",
      "dropout_16 (Dropout)         (None, 32)                0         \n",
      "_________________________________________________________________\n",
      "dense_33 (Dense)             (None, 1)                 33        \n",
      "=================================================================\n",
      "Total params: 21,373,561\n",
      "Trainable params: 87,361\n",
      "Non-trainable params: 21,286,200\n",
      "_________________________________________________________________\n"
     ]
    }
   ],
   "source": [
    "\n",
    "\n",
    "model = tf.keras.Sequential()\n",
    "model.add(Embedding(nb_words,embed_dim,input_length=max_seq_len, weights=[embedding_matrix], trainable=False))\n",
    "model.add(Bidirectional(LSTM(32)))\n",
    "model.add(Dense(32,activation='relu'))\n",
    "model.add(Dropout(0.4))\n",
    "model.add(Dense(1,activation='sigmoid'))\n",
    "model.summary()"
   ]
  },
  {
   "cell_type": "markdown",
   "id": "bf97d77e",
   "metadata": {},
   "source": [
    "## Training the model"
   ]
  },
  {
   "cell_type": "code",
   "execution_count": 119,
   "metadata": {},
   "outputs": [
    {
     "name": "stdout",
     "output_type": "stream",
     "text": [
      "Epoch 1/15\n",
      "128/128 [==============================] - 15s 121ms/step - loss: 0.2847 - accuracy: 0.8996 - val_loss: 0.1801 - val_accuracy: 0.9323\n",
      "Epoch 2/15\n",
      "128/128 [==============================] - 14s 113ms/step - loss: 0.1703 - accuracy: 0.9378 - val_loss: 0.1584 - val_accuracy: 0.9385\n",
      "Epoch 3/15\n",
      "128/128 [==============================] - 14s 113ms/step - loss: 0.1493 - accuracy: 0.9437 - val_loss: 0.1614 - val_accuracy: 0.9397\n",
      "Epoch 4/15\n",
      "128/128 [==============================] - 14s 113ms/step - loss: 0.1336 - accuracy: 0.9493 - val_loss: 0.1535 - val_accuracy: 0.9418\n",
      "Epoch 5/15\n",
      "128/128 [==============================] - 14s 113ms/step - loss: 0.1208 - accuracy: 0.9539 - val_loss: 0.1549 - val_accuracy: 0.9421\n",
      "Epoch 6/15\n",
      "128/128 [==============================] - 15s 113ms/step - loss: 0.1097 - accuracy: 0.9594 - val_loss: 0.1509 - val_accuracy: 0.9432\n",
      "Epoch 7/15\n",
      "128/128 [==============================] - 14s 113ms/step - loss: 0.0947 - accuracy: 0.9642 - val_loss: 0.1609 - val_accuracy: 0.9377\n",
      "Epoch 8/15\n",
      "128/128 [==============================] - 14s 112ms/step - loss: 0.0824 - accuracy: 0.9688 - val_loss: 0.1781 - val_accuracy: 0.9382\n",
      "Epoch 9/15\n",
      "128/128 [==============================] - 14s 113ms/step - loss: 0.0693 - accuracy: 0.9748 - val_loss: 0.1770 - val_accuracy: 0.9415\n"
     ]
    }
   ],
   "source": [
    "from keras.optimizers import RMSprop\n",
    "from keras.callbacks import ModelCheckpoint\n",
    "from tensorflow.keras.callbacks import EarlyStopping\n",
    "\n",
    "model.compile(loss='binary_crossentropy', optimizer='adam', metrics=['accuracy'])\n",
    "es_callback = EarlyStopping(monitor='val_loss', patience=3)\n",
    "history = model.fit(word_seq_train, y, batch_size=256,\n",
    "          epochs=num_epochs, validation_split=0.3, callbacks=[es_callback], shuffle=True)"
   ]
  },
  {
   "cell_type": "markdown",
   "id": "848edef6",
   "metadata": {},
   "source": [
    "# Model Evaluation"
   ]
  },
  {
   "cell_type": "code",
   "execution_count": 120,
   "metadata": {},
   "outputs": [
    {
     "data": {
      "image/png": "[encoded data removed]",
      "text/plain": [
       "<Figure size 432x288 with 1 Axes>"
      ]
     },
     "metadata": {},
     "output_type": "display_data"
    }
   ],
   "source": [
    "#generate plots\n",
    "plt.figure()\n",
    "#positions = [0, 1, 2,3,4,5,6,7]\n",
    "#labels = [\"0\", \"10\", \"20\",\"30\",\"40\",\"50\", \"60\", \"70\"]\n",
    "#plt.xticks(positions, labels)\n",
    "\n",
    "plt.plot(history.history['loss'], lw=1.0, color='g', label='train')\n",
    "plt.plot(history.history['val_loss'], lw=1.0, color='r', label='val')\n",
    "plt.title('LSTM loss')\n",
    "plt.xlabel('Epochs')\n",
    "plt.ylabel('Cross-Entropy Loss')\n",
    "plt.legend()\n",
    "plt.show()"
   ]
  },
  {
   "cell_type": "code",
   "execution_count": 121,
   "metadata": {},
   "outputs": [
    {
     "data": {
      "image/png": "[encoded data removed]",
      "text/plain": [
       "<Figure size 432x288 with 1 Axes>"
      ]
     },
     "metadata": {},
     "output_type": "display_data"
    }
   ],
   "source": [
    "#generate plots\n",
    "plt.figure()\n",
    "\n",
    "\n",
    "positions = [0, 1, 2,3,4,5,6,7]\n",
    "labels = [\"0\", \"10\", \"20\",\"30\",\"40\",\"50\", \"60\", \"70\"]\n",
    "plt.xticks(positions, labels)\n",
    "\n",
    "\n",
    "plt.plot(history.history['accuracy'], lw=1.0, color='b', label='train')\n",
    "\n",
    "plt.plot(history.history['val_accuracy'], lw=1.0, color='r', label='val')\n",
    "plt.title('LSTM Accuracy')\n",
    "plt.xlabel('Epochs')\n",
    "plt.ylabel('Accuracy')\n",
    "plt.legend()\n",
    "plt.show()"
   ]
  },
  {
   "cell_type": "code",
   "execution_count": 124,
   "metadata": {},
   "outputs": [
    {
     "name": "stdout",
     "output_type": "stream",
     "text": [
      "313/313 [==============================] - 2s 7ms/step\n",
      "Accuracy: 94.10%\n",
      "F1 Score: 0.939513\n",
      "precision_score: 0.940867\n",
      "recall_score: 0.938322\n",
      "[[5489  250]\n",
      " [ 340 3921]]\n"
     ]
    }
   ],
   "source": [
    "# testing on test data\n",
    "y_pred = model.predict(word_seq_test,verbose=1,batch_size=32)\n",
    "y_pred = [0 if y[0] < 0.5 else 1 for y in y_pred]\n",
    "print(\"Accuracy: {:.2f}%\".format(accuracy_score(y_test, y_pred) * 100))\n",
    "print(\"F1 Score: {:.6f}\".format(f1_score(y_test, y_pred, average='macro')))\n",
    "print(\"precision_score: {:.6f}\".format(precision_score(y_test, y_pred, average='macro')))\n",
    "print(\"recall_score: {:.6f}\".format(recall_score(y_test, y_pred, average='macro')))\n",
    "cm = confusion_matrix(y_test, y_pred)\n",
    "print(cm)"
   ]
  },
  {
   "cell_type": "code",
   "execution_count": 125,
   "metadata": {},
   "outputs": [
    {
     "name": "stdout",
     "output_type": "stream",
     "text": [
      "\n",
      "Confusion Matrix\n",
      "======================================================\n"
     ]
    },
    {
     "data": {
      "image/png": "[encoded data removed]",
      "text/plain": [
       "<Figure size 576x360 with 2 Axes>"
      ]
     },
     "metadata": {},
     "output_type": "display_data"
    }
   ],
   "source": [
    "labels = [\"Non-toxic\", \"Toxic\"]\n",
    "\n",
    "df_cm = pd.DataFrame(cm, index = [i for i in labels],\n",
    "                  columns = [i for i in labels])\n",
    "\n",
    "plt.figure(figsize = (8,5))\n",
    "\n",
    "print('\\nConfusion Matrix')\n",
    "print('======================================================')\n",
    "plt.title(\"Confusion Matrix\")\n",
    "\n",
    "sn.heatmap(df_cm, annot=True, fmt='g')\n",
    "plt.yticks(rotation = 0)\n",
    "plt.show()"
   ]
  },
  {
   "cell_type": "code",
   "execution_count": null,
   "metadata": {},
   "outputs": [],
   "source": []
  }
 ],
 "metadata": {
  "kernelspec": {
   "display_name": "Python 3",
   "language": "python",
   "name": "python3"
  },
  "language_info": {
   "codemirror_mode": {
    "name": "ipython",
    "version": 3
   },
   "file_extension": ".py",
   "mimetype": "text/x-python",
   "name": "python",
   "nbconvert_exporter": "python",
   "pygments_lexer": "ipython3",
   "version": "3.8.5"
  }
 },
 "nbformat": 4,
 "nbformat_minor": 5
}
